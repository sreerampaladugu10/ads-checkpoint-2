{
 "cells": [
  {
   "cell_type": "code",
   "execution_count": 66,
   "metadata": {
    "id": "9nfFX9jYn_dV"
   },
   "outputs": [
    {
     "data": {
      "text/html": [
       "<div>\n",
       "<style scoped>\n",
       "    .dataframe tbody tr th:only-of-type {\n",
       "        vertical-align: middle;\n",
       "    }\n",
       "\n",
       "    .dataframe tbody tr th {\n",
       "        vertical-align: top;\n",
       "    }\n",
       "\n",
       "    .dataframe thead th {\n",
       "        text-align: right;\n",
       "    }\n",
       "</style>\n",
       "<table border=\"1\" class=\"dataframe\">\n",
       "  <thead>\n",
       "    <tr style=\"text-align: right;\">\n",
       "      <th></th>\n",
       "      <th>subject</th>\n",
       "      <th>scan-number</th>\n",
       "      <th>HC-AUD-match</th>\n",
       "      <th>subject-group</th>\n",
       "      <th>Study</th>\n",
       "      <th>Diagnosis</th>\n",
       "      <th>Age</th>\n",
       "      <th>age-subject-group</th>\n",
       "      <th>Sex</th>\n",
       "      <th>AUDIT-Total</th>\n",
       "      <th>MMSE</th>\n",
       "    </tr>\n",
       "  </thead>\n",
       "  <tbody>\n",
       "    <tr>\n",
       "      <th>0</th>\n",
       "      <td>002_S_4171</td>\n",
       "      <td>1</td>\n",
       "      <td>NaN</td>\n",
       "      <td>AD-MCI</td>\n",
       "      <td>ADNI</td>\n",
       "      <td>MCI</td>\n",
       "      <td>69.0</td>\n",
       "      <td>elderly</td>\n",
       "      <td>M</td>\n",
       "      <td>NaN</td>\n",
       "      <td>24.0</td>\n",
       "    </tr>\n",
       "    <tr>\n",
       "      <th>1</th>\n",
       "      <td>002_S_4229</td>\n",
       "      <td>1</td>\n",
       "      <td>NaN</td>\n",
       "      <td>AD-MCI</td>\n",
       "      <td>ADNI</td>\n",
       "      <td>MCI</td>\n",
       "      <td>66.0</td>\n",
       "      <td>elderly</td>\n",
       "      <td>M</td>\n",
       "      <td>NaN</td>\n",
       "      <td>29.0</td>\n",
       "    </tr>\n",
       "    <tr>\n",
       "      <th>2</th>\n",
       "      <td>002_S_4473</td>\n",
       "      <td>1</td>\n",
       "      <td>NaN</td>\n",
       "      <td>AD-MCI</td>\n",
       "      <td>ADNI</td>\n",
       "      <td>MCI</td>\n",
       "      <td>75.0</td>\n",
       "      <td>elderly</td>\n",
       "      <td>M</td>\n",
       "      <td>NaN</td>\n",
       "      <td>27.0</td>\n",
       "    </tr>\n",
       "    <tr>\n",
       "      <th>3</th>\n",
       "      <td>002_S_4521</td>\n",
       "      <td>1</td>\n",
       "      <td>NaN</td>\n",
       "      <td>AD-MCI</td>\n",
       "      <td>ADNI</td>\n",
       "      <td>MCI</td>\n",
       "      <td>70.0</td>\n",
       "      <td>elderly</td>\n",
       "      <td>M</td>\n",
       "      <td>NaN</td>\n",
       "      <td>27.0</td>\n",
       "    </tr>\n",
       "    <tr>\n",
       "      <th>4</th>\n",
       "      <td>002_S_4799</td>\n",
       "      <td>1</td>\n",
       "      <td>NaN</td>\n",
       "      <td>AD-MCI</td>\n",
       "      <td>ADNI</td>\n",
       "      <td>MCI</td>\n",
       "      <td>68.0</td>\n",
       "      <td>elderly</td>\n",
       "      <td>M</td>\n",
       "      <td>NaN</td>\n",
       "      <td>29.0</td>\n",
       "    </tr>\n",
       "  </tbody>\n",
       "</table>\n",
       "</div>"
      ],
      "text/plain": [
       "      subject  scan-number  HC-AUD-match subject-group Study Diagnosis   Age  \\\n",
       "0  002_S_4171            1           NaN        AD-MCI  ADNI       MCI  69.0   \n",
       "1  002_S_4229            1           NaN        AD-MCI  ADNI       MCI  66.0   \n",
       "2  002_S_4473            1           NaN        AD-MCI  ADNI       MCI  75.0   \n",
       "3  002_S_4521            1           NaN        AD-MCI  ADNI       MCI  70.0   \n",
       "4  002_S_4799            1           NaN        AD-MCI  ADNI       MCI  68.0   \n",
       "\n",
       "  age-subject-group Sex  AUDIT-Total  MMSE  \n",
       "0           elderly   M          NaN  24.0  \n",
       "1           elderly   M          NaN  29.0  \n",
       "2           elderly   M          NaN  27.0  \n",
       "3           elderly   M          NaN  27.0  \n",
       "4           elderly   M          NaN  29.0  "
      ]
     },
     "execution_count": 66,
     "metadata": {},
     "output_type": "execute_result"
    }
   ],
   "source": [
    "import pandas as pd\n",
    "import numpy as np\n",
    "df = pd.read_excel(\"demographics.xlsx\")\n",
    "df.head()"
   ]
  },
  {
   "cell_type": "code",
   "execution_count": 67,
   "metadata": {
    "colab": {
     "base_uri": "https://localhost:8080/"
    },
    "id": "K79d6BUroNoF",
    "outputId": "1269d9f6-d0c3-472e-c685-940ecdbc653e"
   },
   "outputs": [
    {
     "data": {
      "text/plain": [
       "subject                0\n",
       "scan-number            0\n",
       "HC-AUD-match         261\n",
       "subject-group          0\n",
       "Study                  0\n",
       "Diagnosis              0\n",
       "Age                    2\n",
       "age-subject-group      2\n",
       "Sex                    0\n",
       "AUDIT-Total          287\n",
       "MMSE                 264\n",
       "dtype: int64"
      ]
     },
     "execution_count": 67,
     "metadata": {},
     "output_type": "execute_result"
    }
   ],
   "source": [
    "df.isna().sum()"
   ]
  },
  {
   "cell_type": "code",
   "execution_count": 68,
   "metadata": {
    "colab": {
     "base_uri": "https://localhost:8080/",
     "height": 463
    },
    "id": "kfOl-J7yoauF",
    "outputId": "e8a5da45-b0ff-4606-9426-329fadb7c73b"
   },
   "outputs": [
    {
     "data": {
      "text/html": [
       "<div>\n",
       "<style scoped>\n",
       "    .dataframe tbody tr th:only-of-type {\n",
       "        vertical-align: middle;\n",
       "    }\n",
       "\n",
       "    .dataframe tbody tr th {\n",
       "        vertical-align: top;\n",
       "    }\n",
       "\n",
       "    .dataframe thead th {\n",
       "        text-align: right;\n",
       "    }\n",
       "</style>\n",
       "<table border=\"1\" class=\"dataframe\">\n",
       "  <thead>\n",
       "    <tr style=\"text-align: right;\">\n",
       "      <th></th>\n",
       "      <th>subject</th>\n",
       "      <th>scan-number</th>\n",
       "      <th>HC-AUD-match</th>\n",
       "      <th>subject-group</th>\n",
       "      <th>Study</th>\n",
       "      <th>Diagnosis</th>\n",
       "      <th>Age</th>\n",
       "      <th>age-subject-group</th>\n",
       "      <th>Sex</th>\n",
       "      <th>AUDIT-Total</th>\n",
       "      <th>MMSE</th>\n",
       "    </tr>\n",
       "  </thead>\n",
       "  <tbody>\n",
       "    <tr>\n",
       "      <th>0</th>\n",
       "      <td>002_S_4171</td>\n",
       "      <td>1</td>\n",
       "      <td>NaN</td>\n",
       "      <td>AD-MCI</td>\n",
       "      <td>ADNI</td>\n",
       "      <td>MCI</td>\n",
       "      <td>69.00</td>\n",
       "      <td>elderly</td>\n",
       "      <td>M</td>\n",
       "      <td>NaN</td>\n",
       "      <td>24.0</td>\n",
       "    </tr>\n",
       "    <tr>\n",
       "      <th>1</th>\n",
       "      <td>002_S_4229</td>\n",
       "      <td>1</td>\n",
       "      <td>NaN</td>\n",
       "      <td>AD-MCI</td>\n",
       "      <td>ADNI</td>\n",
       "      <td>MCI</td>\n",
       "      <td>66.00</td>\n",
       "      <td>elderly</td>\n",
       "      <td>M</td>\n",
       "      <td>NaN</td>\n",
       "      <td>29.0</td>\n",
       "    </tr>\n",
       "    <tr>\n",
       "      <th>2</th>\n",
       "      <td>002_S_4473</td>\n",
       "      <td>1</td>\n",
       "      <td>NaN</td>\n",
       "      <td>AD-MCI</td>\n",
       "      <td>ADNI</td>\n",
       "      <td>MCI</td>\n",
       "      <td>75.00</td>\n",
       "      <td>elderly</td>\n",
       "      <td>M</td>\n",
       "      <td>NaN</td>\n",
       "      <td>27.0</td>\n",
       "    </tr>\n",
       "    <tr>\n",
       "      <th>3</th>\n",
       "      <td>002_S_4521</td>\n",
       "      <td>1</td>\n",
       "      <td>NaN</td>\n",
       "      <td>AD-MCI</td>\n",
       "      <td>ADNI</td>\n",
       "      <td>MCI</td>\n",
       "      <td>70.00</td>\n",
       "      <td>elderly</td>\n",
       "      <td>M</td>\n",
       "      <td>NaN</td>\n",
       "      <td>27.0</td>\n",
       "    </tr>\n",
       "    <tr>\n",
       "      <th>4</th>\n",
       "      <td>002_S_4799</td>\n",
       "      <td>1</td>\n",
       "      <td>NaN</td>\n",
       "      <td>AD-MCI</td>\n",
       "      <td>ADNI</td>\n",
       "      <td>MCI</td>\n",
       "      <td>68.00</td>\n",
       "      <td>elderly</td>\n",
       "      <td>M</td>\n",
       "      <td>NaN</td>\n",
       "      <td>29.0</td>\n",
       "    </tr>\n",
       "    <tr>\n",
       "      <th>...</th>\n",
       "      <td>...</td>\n",
       "      <td>...</td>\n",
       "      <td>...</td>\n",
       "      <td>...</td>\n",
       "      <td>...</td>\n",
       "      <td>...</td>\n",
       "      <td>...</td>\n",
       "      <td>...</td>\n",
       "      <td>...</td>\n",
       "      <td>...</td>\n",
       "      <td>...</td>\n",
       "    </tr>\n",
       "    <tr>\n",
       "      <th>310</th>\n",
       "      <td>1125R2</td>\n",
       "      <td>2</td>\n",
       "      <td>NaN</td>\n",
       "      <td>HC</td>\n",
       "      <td>IAM</td>\n",
       "      <td>HC</td>\n",
       "      <td>63.07</td>\n",
       "      <td>mid-life</td>\n",
       "      <td>F</td>\n",
       "      <td>NaN</td>\n",
       "      <td>NaN</td>\n",
       "    </tr>\n",
       "    <tr>\n",
       "      <th>311</th>\n",
       "      <td>1126R2</td>\n",
       "      <td>2</td>\n",
       "      <td>NaN</td>\n",
       "      <td>HC</td>\n",
       "      <td>IAM</td>\n",
       "      <td>HC</td>\n",
       "      <td>76.70</td>\n",
       "      <td>elderly</td>\n",
       "      <td>M</td>\n",
       "      <td>NaN</td>\n",
       "      <td>NaN</td>\n",
       "    </tr>\n",
       "    <tr>\n",
       "      <th>312</th>\n",
       "      <td>1127R2</td>\n",
       "      <td>2</td>\n",
       "      <td>NaN</td>\n",
       "      <td>HC</td>\n",
       "      <td>IAM</td>\n",
       "      <td>HC</td>\n",
       "      <td>56.98</td>\n",
       "      <td>mid-life</td>\n",
       "      <td>F</td>\n",
       "      <td>NaN</td>\n",
       "      <td>NaN</td>\n",
       "    </tr>\n",
       "    <tr>\n",
       "      <th>313</th>\n",
       "      <td>1128R2</td>\n",
       "      <td>2</td>\n",
       "      <td>NaN</td>\n",
       "      <td>HC</td>\n",
       "      <td>IAM</td>\n",
       "      <td>HC</td>\n",
       "      <td>55.37</td>\n",
       "      <td>mid-life</td>\n",
       "      <td>M</td>\n",
       "      <td>NaN</td>\n",
       "      <td>NaN</td>\n",
       "    </tr>\n",
       "    <tr>\n",
       "      <th>314</th>\n",
       "      <td>1132R2</td>\n",
       "      <td>2</td>\n",
       "      <td>NaN</td>\n",
       "      <td>HC</td>\n",
       "      <td>IAM</td>\n",
       "      <td>HC</td>\n",
       "      <td>NaN</td>\n",
       "      <td>NaN</td>\n",
       "      <td>F</td>\n",
       "      <td>NaN</td>\n",
       "      <td>NaN</td>\n",
       "    </tr>\n",
       "  </tbody>\n",
       "</table>\n",
       "<p>315 rows × 11 columns</p>\n",
       "</div>"
      ],
      "text/plain": [
       "        subject  scan-number  HC-AUD-match subject-group Study Diagnosis  \\\n",
       "0    002_S_4171            1           NaN        AD-MCI  ADNI       MCI   \n",
       "1    002_S_4229            1           NaN        AD-MCI  ADNI       MCI   \n",
       "2    002_S_4473            1           NaN        AD-MCI  ADNI       MCI   \n",
       "3    002_S_4521            1           NaN        AD-MCI  ADNI       MCI   \n",
       "4    002_S_4799            1           NaN        AD-MCI  ADNI       MCI   \n",
       "..          ...          ...           ...           ...   ...       ...   \n",
       "310      1125R2            2           NaN            HC   IAM        HC   \n",
       "311      1126R2            2           NaN            HC   IAM        HC   \n",
       "312      1127R2            2           NaN            HC   IAM        HC   \n",
       "313      1128R2            2           NaN            HC   IAM        HC   \n",
       "314      1132R2            2           NaN            HC   IAM        HC   \n",
       "\n",
       "       Age age-subject-group Sex  AUDIT-Total  MMSE  \n",
       "0    69.00           elderly   M          NaN  24.0  \n",
       "1    66.00           elderly   M          NaN  29.0  \n",
       "2    75.00           elderly   M          NaN  27.0  \n",
       "3    70.00           elderly   M          NaN  27.0  \n",
       "4    68.00           elderly   M          NaN  29.0  \n",
       "..     ...               ...  ..          ...   ...  \n",
       "310  63.07          mid-life   F          NaN   NaN  \n",
       "311  76.70           elderly   M          NaN   NaN  \n",
       "312  56.98          mid-life   F          NaN   NaN  \n",
       "313  55.37          mid-life   M          NaN   NaN  \n",
       "314    NaN               NaN   F          NaN   NaN  \n",
       "\n",
       "[315 rows x 11 columns]"
      ]
     },
     "execution_count": 68,
     "metadata": {},
     "output_type": "execute_result"
    }
   ],
   "source": [
    "df"
   ]
  },
  {
   "cell_type": "code",
   "execution_count": null,
   "metadata": {},
   "outputs": [],
   "source": []
  },
  {
   "cell_type": "code",
   "execution_count": 69,
   "metadata": {
    "colab": {
     "base_uri": "https://localhost:8080/"
    },
    "id": "axOjxin7oO4y",
    "outputId": "a3752da1-fd0e-428f-9f9a-7ccf3ca0c17e"
   },
   "outputs": [
    {
     "data": {
      "text/plain": [
       "subject               object\n",
       "scan-number            int64\n",
       "HC-AUD-match         float64\n",
       "subject-group         object\n",
       "Study                 object\n",
       "Diagnosis             object\n",
       "Age                  float64\n",
       "age-subject-group     object\n",
       "Sex                   object\n",
       "AUDIT-Total          float64\n",
       "MMSE                 float64\n",
       "dtype: object"
      ]
     },
     "execution_count": 69,
     "metadata": {},
     "output_type": "execute_result"
    }
   ],
   "source": [
    "df.dtypes"
   ]
  },
  {
   "cell_type": "code",
   "execution_count": 70,
   "metadata": {},
   "outputs": [
    {
     "data": {
      "text/plain": [
       "subject                0\n",
       "scan-number            0\n",
       "HC-AUD-match         261\n",
       "subject-group          0\n",
       "Study                  0\n",
       "Diagnosis              0\n",
       "Age                    2\n",
       "age-subject-group      2\n",
       "Sex                    0\n",
       "AUDIT-Total          287\n",
       "MMSE                 264\n",
       "dtype: int64"
      ]
     },
     "execution_count": 70,
     "metadata": {},
     "output_type": "execute_result"
    }
   ],
   "source": [
    "df.apply(lambda x: sum(x.isnull()),axis=0)"
   ]
  },
  {
   "cell_type": "code",
   "execution_count": 71,
   "metadata": {
    "id": "jLeBFgYopKiM"
   },
   "outputs": [],
   "source": [
    "import numpy as np\n",
    "temp_df = df.drop(labels=['HC-AUD-match','AUDIT-Total','MMSE'],axis='columns')\n",
    "new_df = temp_df.dropna(axis='index',how='any')"
   ]
  },
  {
   "cell_type": "code",
   "execution_count": 72,
   "metadata": {
    "colab": {
     "base_uri": "https://localhost:8080/"
    },
    "id": "kkY5QtI1qIH0",
    "outputId": "fae9d363-f87f-4016-99fe-a547a53a253f"
   },
   "outputs": [
    {
     "data": {
      "text/plain": [
       "subject              0\n",
       "scan-number          0\n",
       "subject-group        0\n",
       "Study                0\n",
       "Diagnosis            0\n",
       "Age                  0\n",
       "age-subject-group    0\n",
       "Sex                  0\n",
       "dtype: int64"
      ]
     },
     "execution_count": 72,
     "metadata": {},
     "output_type": "execute_result"
    }
   ],
   "source": [
    "new_df.isna().sum()"
   ]
  },
  {
   "cell_type": "code",
   "execution_count": 73,
   "metadata": {
    "colab": {
     "base_uri": "https://localhost:8080/"
    },
    "id": "8ZAYViL-Jb-L",
    "outputId": "409afcf4-b6d2-4780-cc05-4af57acfbd89"
   },
   "outputs": [
    {
     "data": {
      "text/plain": [
       "IAM               236\n",
       "ADNI               51\n",
       "PATRIOT            11\n",
       "COUPLES             7\n",
       "PANACEA             6\n",
       "PATRIOT-prelim      3\n",
       "HEART               1\n",
       "Name: Study, dtype: int64"
      ]
     },
     "execution_count": 73,
     "metadata": {},
     "output_type": "execute_result"
    }
   ],
   "source": [
    "df['Study'].value_counts()"
   ]
  },
  {
   "cell_type": "code",
   "execution_count": 74,
   "metadata": {
    "colab": {
     "base_uri": "https://localhost:8080/"
    },
    "id": "8Nzxb-kkJzw2",
    "outputId": "0d5993ed-190c-433f-d750-0f4178e347a7"
   },
   "outputs": [
    {
     "data": {
      "text/plain": [
       "array(['ADNI', 'HEART', 'COUPLES', 'PANACEA', 'PATRIOT-prelim', 'PATRIOT',\n",
       "       'IAM'], dtype=object)"
      ]
     },
     "execution_count": 74,
     "metadata": {},
     "output_type": "execute_result"
    }
   ],
   "source": [
    "df['Study'].unique()"
   ]
  },
  {
   "cell_type": "code",
   "execution_count": 75,
   "metadata": {
    "colab": {
     "base_uri": "https://localhost:8080/"
    },
    "id": "COZUUDiLJeTe",
    "outputId": "d60ed1cf-f326-4cf2-c71e-d16d4595d52b"
   },
   "outputs": [
    {
     "data": {
      "text/plain": [
       "array(['MCI', 'AD', 'AUD', 'HC'], dtype=object)"
      ]
     },
     "execution_count": 75,
     "metadata": {},
     "output_type": "execute_result"
    }
   ],
   "source": [
    "df['Diagnosis'].unique()"
   ]
  },
  {
   "cell_type": "code",
   "execution_count": 76,
   "metadata": {
    "colab": {
     "base_uri": "https://localhost:8080/"
    },
    "id": "acjwkSoBJh5p",
    "outputId": "0f34c7a5-60ee-4197-c0e7-d76f3af212d2"
   },
   "outputs": [
    {
     "data": {
      "text/plain": [
       "array(['M', 'F'], dtype=object)"
      ]
     },
     "execution_count": 76,
     "metadata": {},
     "output_type": "execute_result"
    }
   ],
   "source": [
    "df['Sex'].unique()"
   ]
  },
  {
   "cell_type": "code",
   "execution_count": 77,
   "metadata": {
    "id": "f35m_z8NJktl"
   },
   "outputs": [
    {
     "data": {
      "text/plain": [
       "HC        248\n",
       "AD-MCI     39\n",
       "AUD        28\n",
       "Name: subject-group, dtype: int64"
      ]
     },
     "execution_count": 77,
     "metadata": {},
     "output_type": "execute_result"
    }
   ],
   "source": [
    "df['subject-group'].value_counts()"
   ]
  },
  {
   "cell_type": "code",
   "execution_count": 78,
   "metadata": {
    "id": "nR83p4yHJm9i"
   },
   "outputs": [
    {
     "data": {
      "text/plain": [
       "elderly     163\n",
       "mid-life    150\n",
       "Name: age-subject-group, dtype: int64"
      ]
     },
     "execution_count": 78,
     "metadata": {},
     "output_type": "execute_result"
    }
   ],
   "source": [
    "df['age-subject-group'].value_counts()"
   ]
  },
  {
   "cell_type": "code",
   "execution_count": 79,
   "metadata": {
    "colab": {
     "base_uri": "https://localhost:8080/"
    },
    "id": "VFbN5US1qPtf",
    "outputId": "6c50e542-94d8-4d17-eed1-f036ffef47b1"
   },
   "outputs": [
    {
     "data": {
      "text/plain": [
       "subject               object\n",
       "scan-number            int64\n",
       "subject-group         object\n",
       "Study                 object\n",
       "Diagnosis             object\n",
       "Age                  float64\n",
       "age-subject-group     object\n",
       "Sex                   object\n",
       "dtype: object"
      ]
     },
     "execution_count": 79,
     "metadata": {},
     "output_type": "execute_result"
    }
   ],
   "source": [
    "new_df.dtypes"
   ]
  },
  {
   "cell_type": "code",
   "execution_count": 80,
   "metadata": {},
   "outputs": [],
   "source": [
    "# Splitting traing data\n",
    "X = df.iloc[:, 1: 7].values\n",
    "y = df.iloc[:, 7].values"
   ]
  },
  {
   "cell_type": "code",
   "execution_count": 81,
   "metadata": {},
   "outputs": [
    {
     "data": {
      "text/plain": [
       "array([[1, nan, 'AD-MCI', 'ADNI', 'MCI', 69.0],\n",
       "       [1, nan, 'AD-MCI', 'ADNI', 'MCI', 66.0],\n",
       "       [1, nan, 'AD-MCI', 'ADNI', 'MCI', 75.0],\n",
       "       ...,\n",
       "       [2, nan, 'HC', 'IAM', 'HC', 56.98],\n",
       "       [2, nan, 'HC', 'IAM', 'HC', 55.37],\n",
       "       [2, nan, 'HC', 'IAM', 'HC', nan]], dtype=object)"
      ]
     },
     "execution_count": 81,
     "metadata": {},
     "output_type": "execute_result"
    }
   ],
   "source": [
    "X"
   ]
  },
  {
   "cell_type": "code",
   "execution_count": 82,
   "metadata": {},
   "outputs": [
    {
     "data": {
      "text/html": [
       "<style type=\"text/css\">\n",
       "#T_7128b_row0_col0, #T_7128b_row2_col2, #T_7128b_row3_col3, #T_7128b_row4_col4 {\n",
       "  background-color: #b40426;\n",
       "  color: #f1f1f1;\n",
       "}\n",
       "#T_7128b_row0_col1, #T_7128b_row0_col3, #T_7128b_row0_col4, #T_7128b_row1_col0, #T_7128b_row1_col1, #T_7128b_row1_col2, #T_7128b_row1_col3, #T_7128b_row1_col4, #T_7128b_row2_col1, #T_7128b_row3_col0, #T_7128b_row3_col1, #T_7128b_row3_col4, #T_7128b_row4_col0, #T_7128b_row4_col1, #T_7128b_row4_col3 {\n",
       "  background-color: #000000;\n",
       "  color: #f1f1f1;\n",
       "}\n",
       "#T_7128b_row0_col2 {\n",
       "  background-color: #6e90f2;\n",
       "  color: #f1f1f1;\n",
       "}\n",
       "#T_7128b_row2_col0, #T_7128b_row2_col3, #T_7128b_row2_col4, #T_7128b_row4_col2 {\n",
       "  background-color: #3b4cc0;\n",
       "  color: #f1f1f1;\n",
       "}\n",
       "#T_7128b_row3_col2 {\n",
       "  background-color: #5673e0;\n",
       "  color: #f1f1f1;\n",
       "}\n",
       "</style>\n",
       "<table id=\"T_7128b\">\n",
       "  <thead>\n",
       "    <tr>\n",
       "      <th class=\"blank level0\" >&nbsp;</th>\n",
       "      <th id=\"T_7128b_level0_col0\" class=\"col_heading level0 col0\" >scan-number</th>\n",
       "      <th id=\"T_7128b_level0_col1\" class=\"col_heading level0 col1\" >HC-AUD-match</th>\n",
       "      <th id=\"T_7128b_level0_col2\" class=\"col_heading level0 col2\" >Age</th>\n",
       "      <th id=\"T_7128b_level0_col3\" class=\"col_heading level0 col3\" >AUDIT-Total</th>\n",
       "      <th id=\"T_7128b_level0_col4\" class=\"col_heading level0 col4\" >MMSE</th>\n",
       "    </tr>\n",
       "  </thead>\n",
       "  <tbody>\n",
       "    <tr>\n",
       "      <th id=\"T_7128b_level0_row0\" class=\"row_heading level0 row0\" >scan-number</th>\n",
       "      <td id=\"T_7128b_row0_col0\" class=\"data row0 col0\" >1.000000</td>\n",
       "      <td id=\"T_7128b_row0_col1\" class=\"data row0 col1\" >nan</td>\n",
       "      <td id=\"T_7128b_row0_col2\" class=\"data row0 col2\" >0.014381</td>\n",
       "      <td id=\"T_7128b_row0_col3\" class=\"data row0 col3\" >nan</td>\n",
       "      <td id=\"T_7128b_row0_col4\" class=\"data row0 col4\" >nan</td>\n",
       "    </tr>\n",
       "    <tr>\n",
       "      <th id=\"T_7128b_level0_row1\" class=\"row_heading level0 row1\" >HC-AUD-match</th>\n",
       "      <td id=\"T_7128b_row1_col0\" class=\"data row1 col0\" >nan</td>\n",
       "      <td id=\"T_7128b_row1_col1\" class=\"data row1 col1\" >nan</td>\n",
       "      <td id=\"T_7128b_row1_col2\" class=\"data row1 col2\" >nan</td>\n",
       "      <td id=\"T_7128b_row1_col3\" class=\"data row1 col3\" >nan</td>\n",
       "      <td id=\"T_7128b_row1_col4\" class=\"data row1 col4\" >nan</td>\n",
       "    </tr>\n",
       "    <tr>\n",
       "      <th id=\"T_7128b_level0_row2\" class=\"row_heading level0 row2\" >Age</th>\n",
       "      <td id=\"T_7128b_row2_col0\" class=\"data row2 col0\" >0.014381</td>\n",
       "      <td id=\"T_7128b_row2_col1\" class=\"data row2 col1\" >nan</td>\n",
       "      <td id=\"T_7128b_row2_col2\" class=\"data row2 col2\" >1.000000</td>\n",
       "      <td id=\"T_7128b_row2_col3\" class=\"data row2 col3\" >-0.068360</td>\n",
       "      <td id=\"T_7128b_row2_col4\" class=\"data row2 col4\" >-0.177275</td>\n",
       "    </tr>\n",
       "    <tr>\n",
       "      <th id=\"T_7128b_level0_row3\" class=\"row_heading level0 row3\" >AUDIT-Total</th>\n",
       "      <td id=\"T_7128b_row3_col0\" class=\"data row3 col0\" >nan</td>\n",
       "      <td id=\"T_7128b_row3_col1\" class=\"data row3 col1\" >nan</td>\n",
       "      <td id=\"T_7128b_row3_col2\" class=\"data row3 col2\" >-0.068360</td>\n",
       "      <td id=\"T_7128b_row3_col3\" class=\"data row3 col3\" >1.000000</td>\n",
       "      <td id=\"T_7128b_row3_col4\" class=\"data row3 col4\" >nan</td>\n",
       "    </tr>\n",
       "    <tr>\n",
       "      <th id=\"T_7128b_level0_row4\" class=\"row_heading level0 row4\" >MMSE</th>\n",
       "      <td id=\"T_7128b_row4_col0\" class=\"data row4 col0\" >nan</td>\n",
       "      <td id=\"T_7128b_row4_col1\" class=\"data row4 col1\" >nan</td>\n",
       "      <td id=\"T_7128b_row4_col2\" class=\"data row4 col2\" >-0.177275</td>\n",
       "      <td id=\"T_7128b_row4_col3\" class=\"data row4 col3\" >nan</td>\n",
       "      <td id=\"T_7128b_row4_col4\" class=\"data row4 col4\" >1.000000</td>\n",
       "    </tr>\n",
       "  </tbody>\n",
       "</table>\n"
      ],
      "text/plain": [
       "<pandas.io.formats.style.Styler at 0x7fa5fbe10220>"
      ]
     },
     "execution_count": 82,
     "metadata": {},
     "output_type": "execute_result"
    }
   ],
   "source": [
    "corr = df.corr()\n",
    "corr.style.background_gradient(cmap='coolwarm')"
   ]
  },
  {
   "cell_type": "code",
   "execution_count": 83,
   "metadata": {},
   "outputs": [
    {
     "data": {
      "text/plain": [
       "array(['elderly', 'elderly', 'elderly', 'elderly', 'elderly', 'elderly',\n",
       "       'elderly', 'elderly', 'elderly', 'elderly', 'elderly', 'elderly',\n",
       "       'elderly', 'mid-life', 'elderly', 'elderly', 'elderly', 'elderly',\n",
       "       'mid-life', 'elderly', 'elderly', 'elderly', 'elderly', 'elderly',\n",
       "       'mid-life', 'mid-life', 'elderly', 'mid-life', 'elderly',\n",
       "       'elderly', 'elderly', 'elderly', 'elderly', 'elderly', 'elderly',\n",
       "       'elderly', 'elderly', 'mid-life', 'elderly', 'mid-life',\n",
       "       'mid-life', 'mid-life', 'mid-life', 'mid-life', 'mid-life',\n",
       "       'mid-life', 'mid-life', 'mid-life', 'mid-life', 'mid-life',\n",
       "       'mid-life', 'mid-life', 'mid-life', 'mid-life', 'mid-life',\n",
       "       'mid-life', 'mid-life', 'mid-life', 'mid-life', 'mid-life',\n",
       "       'mid-life', 'mid-life', 'mid-life', 'mid-life', 'mid-life',\n",
       "       'mid-life', 'mid-life', 'elderly', 'elderly', 'elderly', 'elderly',\n",
       "       'elderly', 'elderly', 'elderly', 'elderly', 'elderly', 'elderly',\n",
       "       'mid-life', 'mid-life', 'mid-life', 'mid-life', 'mid-life',\n",
       "       'elderly', 'elderly', 'elderly', 'elderly', 'elderly', 'mid-life',\n",
       "       'elderly', 'elderly', 'elderly', 'elderly', 'elderly', 'elderly',\n",
       "       'mid-life', 'elderly', 'mid-life', 'elderly', 'elderly', 'elderly',\n",
       "       'elderly', 'elderly', 'elderly', 'elderly', 'elderly', 'elderly',\n",
       "       'elderly', 'elderly', 'elderly', 'elderly', 'mid-life', 'mid-life',\n",
       "       'elderly', 'mid-life', 'mid-life', 'elderly', 'elderly', 'elderly',\n",
       "       'elderly', 'mid-life', 'elderly', 'elderly', 'elderly', 'mid-life',\n",
       "       'elderly', 'mid-life', 'mid-life', 'mid-life', 'elderly',\n",
       "       'elderly', 'elderly', 'mid-life', 'elderly', 'elderly', 'elderly',\n",
       "       'elderly', 'elderly', 'mid-life', 'mid-life', 'mid-life',\n",
       "       'mid-life', 'elderly', 'elderly', 'elderly', 'elderly', 'mid-life',\n",
       "       'mid-life', 'elderly', 'elderly', 'mid-life', 'mid-life',\n",
       "       'mid-life', 'mid-life', 'mid-life', 'mid-life', 'mid-life',\n",
       "       'mid-life', 'mid-life', 'elderly', 'elderly', 'mid-life',\n",
       "       'mid-life', 'mid-life', 'mid-life', 'mid-life', 'elderly',\n",
       "       'elderly', 'mid-life', 'mid-life', 'mid-life', 'elderly',\n",
       "       'elderly', 'elderly', 'mid-life', 'mid-life', 'mid-life',\n",
       "       'mid-life', 'mid-life', 'mid-life', 'mid-life', 'mid-life',\n",
       "       'mid-life', 'elderly', 'elderly', 'mid-life', 'mid-life',\n",
       "       'mid-life', 'mid-life', 'mid-life', 'mid-life', 'elderly',\n",
       "       'mid-life', 'mid-life', nan, 'elderly', 'elderly', 'elderly',\n",
       "       'elderly', 'mid-life', 'mid-life', 'mid-life', 'mid-life',\n",
       "       'mid-life', 'elderly', 'elderly', 'elderly', 'elderly', 'elderly',\n",
       "       'mid-life', 'elderly', 'elderly', 'elderly', 'elderly', 'elderly',\n",
       "       'elderly', 'mid-life', 'elderly', 'mid-life', 'elderly', 'elderly',\n",
       "       'elderly', 'elderly', 'elderly', 'elderly', 'elderly', 'elderly',\n",
       "       'elderly', 'elderly', 'elderly', 'elderly', 'elderly', 'mid-life',\n",
       "       'mid-life', 'elderly', 'mid-life', 'mid-life', 'elderly',\n",
       "       'elderly', 'elderly', 'elderly', 'mid-life', 'elderly', 'elderly',\n",
       "       'elderly', 'mid-life', 'elderly', 'mid-life', 'mid-life',\n",
       "       'mid-life', 'elderly', 'elderly', 'elderly', 'mid-life', 'elderly',\n",
       "       'elderly', 'elderly', 'elderly', 'elderly', 'mid-life', 'mid-life',\n",
       "       'mid-life', 'mid-life', 'elderly', 'elderly', 'elderly', 'elderly',\n",
       "       'mid-life', 'mid-life', 'elderly', 'elderly', 'mid-life',\n",
       "       'mid-life', 'mid-life', 'mid-life', 'mid-life', 'mid-life',\n",
       "       'mid-life', 'mid-life', 'mid-life', 'elderly', 'elderly',\n",
       "       'mid-life', 'mid-life', 'mid-life', 'mid-life', 'mid-life',\n",
       "       'elderly', 'elderly', 'mid-life', 'mid-life', 'mid-life',\n",
       "       'elderly', 'elderly', 'elderly', 'mid-life', 'mid-life',\n",
       "       'mid-life', 'mid-life', 'mid-life', 'mid-life', 'mid-life',\n",
       "       'mid-life', 'mid-life', 'elderly', 'elderly', 'mid-life',\n",
       "       'mid-life', 'mid-life', 'mid-life', 'mid-life', 'mid-life',\n",
       "       'elderly', 'mid-life', 'mid-life', nan], dtype=object)"
      ]
     },
     "execution_count": 83,
     "metadata": {},
     "output_type": "execute_result"
    }
   ],
   "source": [
    "y"
   ]
  },
  {
   "cell_type": "code",
   "execution_count": 84,
   "metadata": {},
   "outputs": [],
   "source": [
    "# Splitting the dataset into the Training set and Test set\n",
    "from sklearn.model_selection import train_test_split\n",
    "X_train, X_test, y_train, y_test = train_test_split(X, y, test_size = 1/3, random_state = 0)"
   ]
  },
  {
   "cell_type": "code",
   "execution_count": 85,
   "metadata": {},
   "outputs": [
    {
     "data": {
      "text/plain": [
       "array([[1, nan, 'HC', 'IAM', 'HC', 47.04],\n",
       "       [1, 1.0, 'HC', 'IAM', 'HC', 56.98],\n",
       "       [1, nan, 'AD-MCI', 'ADNI', 'AD', 74.0],\n",
       "       ...,\n",
       "       [1, nan, 'HC', 'IAM', 'HC', 67.75],\n",
       "       [1, 1.0, 'AUD', 'PANACEA', 'AUD', 57.0],\n",
       "       [1, nan, 'HC', 'IAM', 'HC', 83.32]], dtype=object)"
      ]
     },
     "execution_count": 85,
     "metadata": {},
     "output_type": "execute_result"
    }
   ],
   "source": [
    "X_train"
   ]
  },
  {
   "cell_type": "code",
   "execution_count": 86,
   "metadata": {},
   "outputs": [],
   "source": [
    "# Encoding categorical data\n",
    "# Encoding the Independent Variable\n",
    "from sklearn.preprocessing import LabelEncoder\n",
    "labelencoder_X = LabelEncoder()"
   ]
  },
  {
   "cell_type": "code",
   "execution_count": 87,
   "metadata": {},
   "outputs": [],
   "source": [
    "for i in range(0, 5):\n",
    "    X_train[:,i] = labelencoder_X.fit_transform(X_train[:,i])\n",
    "\n",
    "X_train[:,5] = labelencoder_X.fit_transform(X_train[:,5])"
   ]
  },
  {
   "cell_type": "code",
   "execution_count": 88,
   "metadata": {},
   "outputs": [],
   "source": [
    "# Encoding the Dependent Variable\n",
    "labelencoder_y = LabelEncoder()\n",
    "y_train = labelencoder_y.fit_transform(y_train)"
   ]
  },
  {
   "cell_type": "code",
   "execution_count": 89,
   "metadata": {},
   "outputs": [
    {
     "data": {
      "text/plain": [
       "array([[0, 1, 2, 3, 2, 4],\n",
       "       [0, 0, 2, 3, 2, 27],\n",
       "       [0, 1, 0, 0, 0, 97],\n",
       "       ...,\n",
       "       [0, 1, 2, 3, 2, 74],\n",
       "       [0, 0, 1, 4, 1, 28],\n",
       "       [0, 1, 2, 3, 2, 120]], dtype=object)"
      ]
     },
     "execution_count": 89,
     "metadata": {},
     "output_type": "execute_result"
    }
   ],
   "source": [
    "X_train"
   ]
  },
  {
   "cell_type": "code",
   "execution_count": 90,
   "metadata": {},
   "outputs": [
    {
     "data": {
      "text/plain": [
       "array([1, 1, 0, 0, 0, 0, 1, 0, 1, 1, 1, 1, 1, 1, 1, 0, 0, 0, 1, 0, 0, 1,\n",
       "       1, 1, 1, 1, 1, 0, 0, 0, 1, 1, 1, 0, 0, 0, 1, 1, 1, 0, 0, 0, 1, 1,\n",
       "       1, 0, 1, 1, 1, 0, 1, 0, 0, 1, 0, 1, 1, 1, 0, 0, 0, 1, 1, 1, 0, 1,\n",
       "       0, 0, 0, 0, 1, 0, 1, 1, 0, 0, 0, 0, 0, 0, 0, 1, 1, 0, 1, 1, 0, 1,\n",
       "       1, 1, 0, 1, 0, 0, 0, 1, 0, 1, 0, 1, 1, 1, 0, 1, 1, 1, 0, 0, 1, 0,\n",
       "       1, 0, 1, 1, 0, 1, 1, 0, 1, 1, 0, 0, 1, 1, 0, 1, 1, 0, 1, 0, 0, 0,\n",
       "       1, 0, 0, 0, 1, 1, 1, 0, 0, 1, 1, 0, 1, 0, 0, 0, 0, 0, 0, 0, 0, 1,\n",
       "       0, 0, 1, 1, 0, 1, 1, 0, 1, 0, 1, 1, 0, 0, 0, 1, 1, 1, 1, 0, 0, 1,\n",
       "       1, 0, 1, 0, 1, 1, 1, 0, 0, 0, 0, 0, 0, 1, 0, 1, 1, 0, 1, 2, 0, 0,\n",
       "       1, 0, 0, 1, 0, 0, 0, 0, 1, 0, 1, 0])"
      ]
     },
     "execution_count": 90,
     "metadata": {},
     "output_type": "execute_result"
    }
   ],
   "source": [
    "y_train"
   ]
  },
  {
   "cell_type": "code",
   "execution_count": 91,
   "metadata": {},
   "outputs": [],
   "source": [
    "# Encoding categorical data\n",
    "# Encoding the Independent Variable\n",
    "from sklearn.preprocessing import LabelEncoder, OneHotEncoder\n",
    "labelencoder_X = LabelEncoder()\n",
    "for i in range(0, 5):\n",
    "    X_test[:,i] = labelencoder_X.fit_transform(X_test[:,i])\n",
    "X_test[:,5] = labelencoder_X.fit_transform(X_test[:,5])\n",
    "# Encoding the Dependent Variable\n",
    "labelencoder_y = LabelEncoder()\n",
    "y_test = labelencoder_y.fit_transform(y_test)"
   ]
  },
  {
   "cell_type": "code",
   "execution_count": 92,
   "metadata": {},
   "outputs": [
    {
     "data": {
      "text/plain": [
       "array([[0, 0, 1, 4, 1, 26],\n",
       "       [1, 1, 2, 2, 2, 84],\n",
       "       [0, 0, 2, 2, 2, 19],\n",
       "       [0, 1, 2, 2, 2, 68],\n",
       "       [0, 1, 2, 2, 2, 76],\n",
       "       [1, 1, 2, 2, 2, 6],\n",
       "       [0, 1, 2, 2, 2, 80],\n",
       "       [0, 1, 2, 2, 2, 71],\n",
       "       [0, 1, 2, 0, 2, 74],\n",
       "       [1, 1, 2, 2, 2, 47],\n",
       "       [0, 1, 0, 0, 3, 60],\n",
       "       [1, 1, 2, 2, 2, 41],\n",
       "       [0, 0, 1, 3, 1, 10],\n",
       "       [1, 1, 2, 2, 2, 46],\n",
       "       [0, 0, 2, 2, 2, 4],\n",
       "       [0, 1, 2, 2, 2, 56],\n",
       "       [0, 1, 2, 2, 2, 61],\n",
       "       [1, 1, 2, 2, 2, 54],\n",
       "       [0, 1, 0, 0, 0, 70],\n",
       "       [1, 1, 2, 2, 2, 33],\n",
       "       [1, 1, 2, 2, 2, 14],\n",
       "       [0, 0, 1, 4, 1, 9],\n",
       "       [1, 1, 2, 2, 2, 44],\n",
       "       [0, 1, 0, 0, 0, 79],\n",
       "       [0, 1, 2, 2, 2, 0],\n",
       "       [0, 1, 0, 0, 3, 45],\n",
       "       [0, 1, 2, 2, 2, 63],\n",
       "       [0, 1, 0, 0, 0, 74],\n",
       "       [0, 0, 1, 5, 1, 37],\n",
       "       [0, 1, 0, 0, 0, 66],\n",
       "       [0, 0, 2, 2, 2, 13],\n",
       "       [0, 1, 2, 2, 2, 48],\n",
       "       [0, 0, 2, 2, 2, 5],\n",
       "       [1, 1, 2, 2, 2, 28],\n",
       "       [0, 1, 2, 2, 2, 82],\n",
       "       [1, 1, 2, 2, 2, 73],\n",
       "       [0, 1, 2, 2, 2, 54],\n",
       "       [0, 0, 1, 4, 1, 16],\n",
       "       [1, 1, 2, 2, 2, 34],\n",
       "       [1, 1, 2, 2, 2, 83],\n",
       "       [1, 1, 2, 2, 2, 77],\n",
       "       [0, 1, 2, 2, 2, 50],\n",
       "       [0, 1, 2, 2, 2, 38],\n",
       "       [0, 1, 2, 2, 2, 59],\n",
       "       [1, 1, 2, 2, 2, 61],\n",
       "       [0, 0, 1, 4, 1, 21],\n",
       "       [0, 1, 2, 2, 2, 34],\n",
       "       [1, 1, 2, 2, 2, 49],\n",
       "       [1, 1, 2, 2, 2, 40],\n",
       "       [0, 1, 0, 0, 0, 66],\n",
       "       [0, 1, 2, 2, 2, 46],\n",
       "       [0, 1, 0, 0, 3, 53],\n",
       "       [0, 1, 2, 2, 2, 58],\n",
       "       [1, 1, 2, 2, 2, 22],\n",
       "       [0, 0, 1, 4, 1, 23],\n",
       "       [0, 0, 1, 4, 1, 17],\n",
       "       [1, 1, 2, 2, 2, 38],\n",
       "       [1, 1, 2, 2, 2, 24],\n",
       "       [1, 1, 2, 2, 2, 1],\n",
       "       [0, 0, 2, 2, 2, 12],\n",
       "       [0, 1, 0, 0, 0, 62],\n",
       "       [0, 1, 0, 0, 3, 60],\n",
       "       [0, 1, 2, 2, 2, 78],\n",
       "       [0, 0, 1, 4, 1, 7],\n",
       "       [0, 1, 0, 0, 0, 75],\n",
       "       [1, 1, 2, 2, 2, 43],\n",
       "       [1, 1, 2, 2, 2, 0],\n",
       "       [0, 1, 2, 2, 2, 27],\n",
       "       [0, 0, 1, 1, 1, 2],\n",
       "       [0, 1, 2, 2, 2, 52],\n",
       "       [1, 1, 2, 2, 2, 67],\n",
       "       [1, 1, 2, 2, 2, 42],\n",
       "       [0, 1, 2, 2, 2, 44],\n",
       "       [0, 1, 2, 2, 2, 31],\n",
       "       [0, 1, 2, 2, 2, 69],\n",
       "       [0, 1, 2, 2, 2, 67],\n",
       "       [0, 0, 2, 2, 2, 18],\n",
       "       [0, 1, 2, 2, 2, 81],\n",
       "       [1, 1, 2, 2, 2, 39],\n",
       "       [0, 1, 2, 0, 2, 57],\n",
       "       [1, 1, 2, 2, 2, 35],\n",
       "       [1, 1, 2, 2, 2, 36],\n",
       "       [1, 1, 2, 2, 2, 32],\n",
       "       [1, 1, 2, 2, 2, 64],\n",
       "       [0, 1, 0, 0, 3, 62],\n",
       "       [1, 1, 2, 2, 2, 25],\n",
       "       [0, 1, 0, 0, 3, 51],\n",
       "       [0, 0, 1, 1, 1, 3],\n",
       "       [1, 1, 2, 2, 2, 55],\n",
       "       [1, 1, 2, 2, 2, 59],\n",
       "       [1, 1, 2, 2, 2, 57],\n",
       "       [0, 1, 2, 2, 2, 43],\n",
       "       [1, 1, 2, 2, 2, 72],\n",
       "       [0, 1, 0, 0, 3, 29],\n",
       "       [0, 1, 2, 2, 2, 42],\n",
       "       [1, 1, 2, 2, 2, 20],\n",
       "       [0, 1, 0, 0, 0, 26],\n",
       "       [1, 1, 2, 2, 2, 11],\n",
       "       [0, 1, 2, 2, 2, 22],\n",
       "       [1, 1, 2, 2, 2, 56],\n",
       "       [0, 1, 2, 2, 2, 30],\n",
       "       [0, 0, 2, 2, 2, 15],\n",
       "       [0, 1, 2, 2, 2, 65],\n",
       "       [1, 1, 2, 2, 2, 8],\n",
       "       [1, 1, 2, 2, 2, 76]], dtype=object)"
      ]
     },
     "execution_count": 92,
     "metadata": {},
     "output_type": "execute_result"
    }
   ],
   "source": [
    "X_test"
   ]
  },
  {
   "cell_type": "code",
   "execution_count": 93,
   "metadata": {},
   "outputs": [],
   "source": [
    "# Feature Scaling\n",
    "from sklearn.preprocessing import StandardScaler\n",
    "sc = StandardScaler()\n",
    "X_train = sc.fit_transform(X_train)\n",
    "X_test = sc.fit_transform(X_test)"
   ]
  },
  {
   "cell_type": "code",
   "execution_count": 94,
   "metadata": {},
   "outputs": [
    {
     "name": "stdout",
     "output_type": "stream",
     "text": [
      "[0.33598774 0.32409659]\n"
     ]
    }
   ],
   "source": [
    "# Applying PCA\n",
    "from sklearn.decomposition import PCA\n",
    "pca = PCA(n_components = 2)\n",
    "X_train = pca.fit_transform(X_train)\n",
    "X_test = pca.fit_transform(X_test)\n",
    "explained_variance = pca.explained_variance_ratio_\n",
    "print(explained_variance)"
   ]
  },
  {
   "cell_type": "markdown",
   "metadata": {
    "id": "Dvq0xSgNLooi"
   },
   "source": [
    "OUTLIERS REMOVAL HERE"
   ]
  },
  {
   "cell_type": "code",
   "execution_count": 95,
   "metadata": {
    "colab": {
     "base_uri": "https://localhost:8080/"
    },
    "id": "HSujz5mwq9Dk",
    "outputId": "42f003e7-e670-4875-f0d2-5ed222c4f53a"
   },
   "outputs": [
    {
     "name": "stdout",
     "output_type": "stream",
     "text": [
      "-30.890552958625697 140.3705529586257\n",
      "-5.267699451096782 102.74769945109679\n"
     ]
    }
   ],
   "source": [
    "\n",
    "import pandas as pd\n",
    "import numpy as np\n",
    "\n",
    "df = pd.DataFrame(columns=['scan-number', 'Age'])  # create an empty DataFrame\n",
    "\n",
    "# populate the DataFrame with some random data\n",
    "for i in range(100):\n",
    "    df.loc[i] = [np.random.randint(1, 100), np.random.randint(20, 80)]\n",
    "\n",
    "for col_name in ['scan-number', 'Age']:\n",
    "    col_mean = np.mean(df[col_name])\n",
    "    col_std = np.std(df[col_name])\n",
    "    cut_off = col_std * 3\n",
    "    lower, upper = col_mean - cut_off, col_mean + cut_off\n",
    "    print(lower, upper)\n",
    "    df = df[(df[col_name] > lower) & (df[col_name] < upper)]  # remove outliers\n",
    "    outliers_removed = [df.iloc[x] for x in range(len(df)) if (df[col_name].iloc[x] > lower) and (df[col_name].iloc[x] < upper)]\n",
    "\n",
    "\n"
   ]
  },
  {
   "cell_type": "code",
   "execution_count": 96,
   "metadata": {
    "colab": {
     "base_uri": "https://localhost:8080/",
     "height": 297
    },
    "id": "9_Mgg6wDtIWh",
    "outputId": "3a6da516-a8a5-4cd3-e4c6-6bca6193a7a7"
   },
   "outputs": [
    {
     "data": {
      "text/html": [
       "<div>\n",
       "<style scoped>\n",
       "    .dataframe tbody tr th:only-of-type {\n",
       "        vertical-align: middle;\n",
       "    }\n",
       "\n",
       "    .dataframe tbody tr th {\n",
       "        vertical-align: top;\n",
       "    }\n",
       "\n",
       "    .dataframe thead th {\n",
       "        text-align: right;\n",
       "    }\n",
       "</style>\n",
       "<table border=\"1\" class=\"dataframe\">\n",
       "  <thead>\n",
       "    <tr style=\"text-align: right;\">\n",
       "      <th></th>\n",
       "      <th>scan-number</th>\n",
       "      <th>Age</th>\n",
       "    </tr>\n",
       "  </thead>\n",
       "  <tbody>\n",
       "    <tr>\n",
       "      <th>count</th>\n",
       "      <td>313.000000</td>\n",
       "      <td>313.000000</td>\n",
       "    </tr>\n",
       "    <tr>\n",
       "      <th>mean</th>\n",
       "      <td>1.373802</td>\n",
       "      <td>65.703003</td>\n",
       "    </tr>\n",
       "    <tr>\n",
       "      <th>std</th>\n",
       "      <td>0.484587</td>\n",
       "      <td>9.781700</td>\n",
       "    </tr>\n",
       "    <tr>\n",
       "      <th>min</th>\n",
       "      <td>1.000000</td>\n",
       "      <td>45.000000</td>\n",
       "    </tr>\n",
       "    <tr>\n",
       "      <th>25%</th>\n",
       "      <td>1.000000</td>\n",
       "      <td>58.020000</td>\n",
       "    </tr>\n",
       "    <tr>\n",
       "      <th>50%</th>\n",
       "      <td>1.000000</td>\n",
       "      <td>66.750000</td>\n",
       "    </tr>\n",
       "    <tr>\n",
       "      <th>75%</th>\n",
       "      <td>2.000000</td>\n",
       "      <td>73.000000</td>\n",
       "    </tr>\n",
       "    <tr>\n",
       "      <th>max</th>\n",
       "      <td>2.000000</td>\n",
       "      <td>84.660000</td>\n",
       "    </tr>\n",
       "  </tbody>\n",
       "</table>\n",
       "</div>"
      ],
      "text/plain": [
       "       scan-number         Age\n",
       "count   313.000000  313.000000\n",
       "mean      1.373802   65.703003\n",
       "std       0.484587    9.781700\n",
       "min       1.000000   45.000000\n",
       "25%       1.000000   58.020000\n",
       "50%       1.000000   66.750000\n",
       "75%       2.000000   73.000000\n",
       "max       2.000000   84.660000"
      ]
     },
     "execution_count": 96,
     "metadata": {},
     "output_type": "execute_result"
    }
   ],
   "source": [
    "new_df.describe()"
   ]
  },
  {
   "cell_type": "code",
   "execution_count": 97,
   "metadata": {
    "colab": {
     "base_uri": "https://localhost:8080/",
     "height": 111
    },
    "id": "jMAiWBbpwIeY",
    "outputId": "883f3f8e-206e-48dd-c9e9-afce4a2e3d17"
   },
   "outputs": [
    {
     "data": {
      "text/html": [
       "<div>\n",
       "<style scoped>\n",
       "    .dataframe tbody tr th:only-of-type {\n",
       "        vertical-align: middle;\n",
       "    }\n",
       "\n",
       "    .dataframe tbody tr th {\n",
       "        vertical-align: top;\n",
       "    }\n",
       "\n",
       "    .dataframe thead th {\n",
       "        text-align: right;\n",
       "    }\n",
       "</style>\n",
       "<table border=\"1\" class=\"dataframe\">\n",
       "  <thead>\n",
       "    <tr style=\"text-align: right;\">\n",
       "      <th></th>\n",
       "      <th>scan-number</th>\n",
       "      <th>Age</th>\n",
       "    </tr>\n",
       "  </thead>\n",
       "  <tbody>\n",
       "    <tr>\n",
       "      <th>scan-number</th>\n",
       "      <td>1.000000</td>\n",
       "      <td>0.014381</td>\n",
       "    </tr>\n",
       "    <tr>\n",
       "      <th>Age</th>\n",
       "      <td>0.014381</td>\n",
       "      <td>1.000000</td>\n",
       "    </tr>\n",
       "  </tbody>\n",
       "</table>\n",
       "</div>"
      ],
      "text/plain": [
       "             scan-number       Age\n",
       "scan-number     1.000000  0.014381\n",
       "Age             0.014381  1.000000"
      ]
     },
     "execution_count": 97,
     "metadata": {},
     "output_type": "execute_result"
    }
   ],
   "source": [
    "new_df.corr()"
   ]
  },
  {
   "cell_type": "code",
   "execution_count": 98,
   "metadata": {
    "colab": {
     "base_uri": "https://localhost:8080/"
    },
    "id": "tCSEwinnwQYO",
    "outputId": "7ce755d6-3a7b-42ff-c397-2c121de759ae"
   },
   "outputs": [
    {
     "data": {
      "text/plain": [
       "subject               object\n",
       "scan-number            int64\n",
       "subject-group         object\n",
       "Study                 object\n",
       "Diagnosis             object\n",
       "Age                  float64\n",
       "age-subject-group     object\n",
       "Sex                   object\n",
       "dtype: object"
      ]
     },
     "execution_count": 98,
     "metadata": {},
     "output_type": "execute_result"
    }
   ],
   "source": [
    "new_df.dtypes"
   ]
  },
  {
   "cell_type": "code",
   "execution_count": 99,
   "metadata": {
    "colab": {
     "base_uri": "https://localhost:8080/",
     "height": 419
    },
    "id": "6RGGktc7G_pS",
    "outputId": "28b8eed2-faac-42d6-a57d-9fa90cd3ceb4"
   },
   "outputs": [
    {
     "data": {
      "text/html": [
       "<div>\n",
       "<style scoped>\n",
       "    .dataframe tbody tr th:only-of-type {\n",
       "        vertical-align: middle;\n",
       "    }\n",
       "\n",
       "    .dataframe tbody tr th {\n",
       "        vertical-align: top;\n",
       "    }\n",
       "\n",
       "    .dataframe thead th {\n",
       "        text-align: right;\n",
       "    }\n",
       "</style>\n",
       "<table border=\"1\" class=\"dataframe\">\n",
       "  <thead>\n",
       "    <tr style=\"text-align: right;\">\n",
       "      <th></th>\n",
       "      <th>subject</th>\n",
       "      <th>scan-number</th>\n",
       "      <th>subject-group</th>\n",
       "      <th>Study</th>\n",
       "      <th>Diagnosis</th>\n",
       "      <th>Age</th>\n",
       "      <th>age-subject-group</th>\n",
       "      <th>Sex</th>\n",
       "    </tr>\n",
       "  </thead>\n",
       "  <tbody>\n",
       "    <tr>\n",
       "      <th>0</th>\n",
       "      <td>002_S_4171</td>\n",
       "      <td>1</td>\n",
       "      <td>AD-MCI</td>\n",
       "      <td>ADNI</td>\n",
       "      <td>MCI</td>\n",
       "      <td>69.00</td>\n",
       "      <td>elderly</td>\n",
       "      <td>M</td>\n",
       "    </tr>\n",
       "    <tr>\n",
       "      <th>1</th>\n",
       "      <td>002_S_4229</td>\n",
       "      <td>1</td>\n",
       "      <td>AD-MCI</td>\n",
       "      <td>ADNI</td>\n",
       "      <td>MCI</td>\n",
       "      <td>66.00</td>\n",
       "      <td>elderly</td>\n",
       "      <td>M</td>\n",
       "    </tr>\n",
       "    <tr>\n",
       "      <th>2</th>\n",
       "      <td>002_S_4473</td>\n",
       "      <td>1</td>\n",
       "      <td>AD-MCI</td>\n",
       "      <td>ADNI</td>\n",
       "      <td>MCI</td>\n",
       "      <td>75.00</td>\n",
       "      <td>elderly</td>\n",
       "      <td>M</td>\n",
       "    </tr>\n",
       "    <tr>\n",
       "      <th>3</th>\n",
       "      <td>002_S_4521</td>\n",
       "      <td>1</td>\n",
       "      <td>AD-MCI</td>\n",
       "      <td>ADNI</td>\n",
       "      <td>MCI</td>\n",
       "      <td>70.00</td>\n",
       "      <td>elderly</td>\n",
       "      <td>M</td>\n",
       "    </tr>\n",
       "    <tr>\n",
       "      <th>4</th>\n",
       "      <td>002_S_4799</td>\n",
       "      <td>1</td>\n",
       "      <td>AD-MCI</td>\n",
       "      <td>ADNI</td>\n",
       "      <td>MCI</td>\n",
       "      <td>68.00</td>\n",
       "      <td>elderly</td>\n",
       "      <td>M</td>\n",
       "    </tr>\n",
       "    <tr>\n",
       "      <th>...</th>\n",
       "      <td>...</td>\n",
       "      <td>...</td>\n",
       "      <td>...</td>\n",
       "      <td>...</td>\n",
       "      <td>...</td>\n",
       "      <td>...</td>\n",
       "      <td>...</td>\n",
       "      <td>...</td>\n",
       "    </tr>\n",
       "    <tr>\n",
       "      <th>309</th>\n",
       "      <td>1124R2</td>\n",
       "      <td>2</td>\n",
       "      <td>HC</td>\n",
       "      <td>IAM</td>\n",
       "      <td>HC</td>\n",
       "      <td>62.85</td>\n",
       "      <td>mid-life</td>\n",
       "      <td>M</td>\n",
       "    </tr>\n",
       "    <tr>\n",
       "      <th>310</th>\n",
       "      <td>1125R2</td>\n",
       "      <td>2</td>\n",
       "      <td>HC</td>\n",
       "      <td>IAM</td>\n",
       "      <td>HC</td>\n",
       "      <td>63.07</td>\n",
       "      <td>mid-life</td>\n",
       "      <td>F</td>\n",
       "    </tr>\n",
       "    <tr>\n",
       "      <th>311</th>\n",
       "      <td>1126R2</td>\n",
       "      <td>2</td>\n",
       "      <td>HC</td>\n",
       "      <td>IAM</td>\n",
       "      <td>HC</td>\n",
       "      <td>76.70</td>\n",
       "      <td>elderly</td>\n",
       "      <td>M</td>\n",
       "    </tr>\n",
       "    <tr>\n",
       "      <th>312</th>\n",
       "      <td>1127R2</td>\n",
       "      <td>2</td>\n",
       "      <td>HC</td>\n",
       "      <td>IAM</td>\n",
       "      <td>HC</td>\n",
       "      <td>56.98</td>\n",
       "      <td>mid-life</td>\n",
       "      <td>F</td>\n",
       "    </tr>\n",
       "    <tr>\n",
       "      <th>313</th>\n",
       "      <td>1128R2</td>\n",
       "      <td>2</td>\n",
       "      <td>HC</td>\n",
       "      <td>IAM</td>\n",
       "      <td>HC</td>\n",
       "      <td>55.37</td>\n",
       "      <td>mid-life</td>\n",
       "      <td>M</td>\n",
       "    </tr>\n",
       "  </tbody>\n",
       "</table>\n",
       "<p>313 rows × 8 columns</p>\n",
       "</div>"
      ],
      "text/plain": [
       "        subject  scan-number subject-group Study Diagnosis    Age  \\\n",
       "0    002_S_4171            1        AD-MCI  ADNI       MCI  69.00   \n",
       "1    002_S_4229            1        AD-MCI  ADNI       MCI  66.00   \n",
       "2    002_S_4473            1        AD-MCI  ADNI       MCI  75.00   \n",
       "3    002_S_4521            1        AD-MCI  ADNI       MCI  70.00   \n",
       "4    002_S_4799            1        AD-MCI  ADNI       MCI  68.00   \n",
       "..          ...          ...           ...   ...       ...    ...   \n",
       "309      1124R2            2            HC   IAM        HC  62.85   \n",
       "310      1125R2            2            HC   IAM        HC  63.07   \n",
       "311      1126R2            2            HC   IAM        HC  76.70   \n",
       "312      1127R2            2            HC   IAM        HC  56.98   \n",
       "313      1128R2            2            HC   IAM        HC  55.37   \n",
       "\n",
       "    age-subject-group Sex  \n",
       "0             elderly   M  \n",
       "1             elderly   M  \n",
       "2             elderly   M  \n",
       "3             elderly   M  \n",
       "4             elderly   M  \n",
       "..                ...  ..  \n",
       "309          mid-life   M  \n",
       "310          mid-life   F  \n",
       "311           elderly   M  \n",
       "312          mid-life   F  \n",
       "313          mid-life   M  \n",
       "\n",
       "[313 rows x 8 columns]"
      ]
     },
     "execution_count": 99,
     "metadata": {},
     "output_type": "execute_result"
    }
   ],
   "source": [
    "new_df"
   ]
  },
  {
   "cell_type": "code",
   "execution_count": 100,
   "metadata": {
    "colab": {
     "base_uri": "https://localhost:8080/",
     "height": 316
    },
    "id": "zpaaepZXIIWZ",
    "outputId": "3a028328-a4f7-4731-ece7-ff775332a987"
   },
   "outputs": [
    {
     "data": {
      "text/plain": [
       "(array([12., 23., 27., 36., 50., 31., 52., 40., 21., 21.]),\n",
       " array([45.   , 48.966, 52.932, 56.898, 60.864, 64.83 , 68.796, 72.762,\n",
       "        76.728, 80.694, 84.66 ]),\n",
       " <BarContainer object of 10 artists>)"
      ]
     },
     "execution_count": 100,
     "metadata": {},
     "output_type": "execute_result"
    },
    {
     "data": {
      "image/png": "[encoded data removed]",
      "text/plain": [
       "<Figure size 640x480 with 1 Axes>"
      ]
     },
     "metadata": {},
     "output_type": "display_data"
    }
   ],
   "source": [
    "import matplotlib.pyplot as plt\n",
    "plt.hist(new_df['Age'])"
   ]
  },
  {
   "cell_type": "code",
   "execution_count": 101,
   "metadata": {
    "colab": {
     "base_uri": "https://localhost:8080/",
     "height": 316
    },
    "id": "sk2Gqm9CKxa4",
    "outputId": "96185f67-2c5b-4ca2-de97-51a75dccc478"
   },
   "outputs": [
    {
     "data": {
      "text/plain": [
       "(array([196.,   0.,   0.,   0.,   0.,   0.,   0.,   0.,   0., 117.]),\n",
       " array([1. , 1.1, 1.2, 1.3, 1.4, 1.5, 1.6, 1.7, 1.8, 1.9, 2. ]),\n",
       " <BarContainer object of 10 artists>)"
      ]
     },
     "execution_count": 101,
     "metadata": {},
     "output_type": "execute_result"
    },
    {
     "data": {
      "image/png": "[encoded data removed]",
      "text/plain": [
       "<Figure size 640x480 with 1 Axes>"
      ]
     },
     "metadata": {},
     "output_type": "display_data"
    }
   ],
   "source": [
    "plt.hist(new_df['scan-number'])"
   ]
  },
  {
   "cell_type": "code",
   "execution_count": 102,
   "metadata": {
    "id": "xpVOPVLuK1q7"
   },
   "outputs": [
    {
     "data": {
      "image/png": "[encoded data removed]",
      "text/plain": [
       "<Figure size 640x480 with 1 Axes>"
      ]
     },
     "metadata": {},
     "output_type": "display_data"
    },
    {
     "name": "stdout",
     "output_type": "stream",
     "text": [
      "       Age Diagnosis\n",
      "0    69.00       MCI\n",
      "1    66.00       MCI\n",
      "2    75.00       MCI\n",
      "3    70.00       MCI\n",
      "4    68.00       MCI\n",
      "..     ...       ...\n",
      "309  62.85        HC\n",
      "310  63.07        HC\n",
      "311  76.70        HC\n",
      "312  56.98        HC\n",
      "313  55.37        HC\n",
      "\n",
      "[313 rows x 2 columns]\n"
     ]
    }
   ],
   "source": [
    "\n",
    "plt.scatter(new_df['Age'], new_df['Diagnosis'])\n",
    "plt.xlabel('Age')\n",
    "plt.ylabel('Diagnosis')\n",
    "plt.title('Relationship between Age and Diagnosis')\n",
    "plt.show()\n",
    "print(new_df[['Age', 'Diagnosis']])"
   ]
  },
  {
   "cell_type": "code",
   "execution_count": 103,
   "metadata": {},
   "outputs": [
    {
     "data": {
      "image/png": "[encoded data removed]",
      "text/plain": [
       "<Figure size 640x480 with 1 Axes>"
      ]
     },
     "metadata": {},
     "output_type": "display_data"
    },
    {
     "name": "stdout",
     "output_type": "stream",
     "text": [
      "Sex            F     M\n",
      "Diagnosis             \n",
      "AD           4.0  12.0\n",
      "AUD          9.0  19.0\n",
      "HC         176.0  70.0\n",
      "MCI          NaN  23.0\n"
     ]
    }
   ],
   "source": [
    "import matplotlib.pyplot as plt\n",
    "\n",
    "# create a pivot table with counts of Diagnosis by Sex\n",
    "sex_pivot = new_df.pivot_table(index='Diagnosis', columns='Sex', values='Age', aggfunc='count')\n",
    "\n",
    "# plot the bar chart\n",
    "sex_pivot.plot(kind='bar')\n",
    "plt.xlabel('Diagnosis')\n",
    "plt.ylabel('Count')\n",
    "plt.title('Counts of Diagnosis by Sex')\n",
    "plt.show()\n",
    "\n",
    "# print the pivot table\n",
    "print(sex_pivot)\n"
   ]
  },
  {
   "cell_type": "code",
   "execution_count": 104,
   "metadata": {},
   "outputs": [],
   "source": [
    "data = pd.read_excel(\"demographics.xlsx\")"
   ]
  },
  {
   "cell_type": "markdown",
   "metadata": {},
   "source": [
    "## models"
   ]
  },
  {
   "cell_type": "markdown",
   "metadata": {},
   "source": [
    "### DecisionTreeClassifier"
   ]
  },
  {
   "cell_type": "code",
   "execution_count": 105,
   "metadata": {},
   "outputs": [
    {
     "name": "stdout",
     "output_type": "stream",
     "text": [
      "Accuracy: 0.7978723404255319\n",
      "Test error rate: 0.2021276595744681\n",
      "Precision: 0.7902828230409963\n",
      "Recall: 0.7978723404255319\n",
      "F1 score: 0.7710642867751507\n",
      "Best hyperparameters: {'max_depth': 10, 'min_samples_leaf': 1}\n",
      "Best accuracy: 0.8766233766233767\n"
     ]
    }
   ],
   "source": [
    "from sklearn.tree import DecisionTreeClassifier\n",
    "from sklearn.model_selection import train_test_split, GridSearchCV\n",
    "from sklearn.preprocessing import OneHotEncoder\n",
    "from sklearn.metrics import accuracy_score, precision_score, recall_score, f1_score\n",
    "import warnings\n",
    "warnings.filterwarnings('ignore')\n",
    "\n",
    "# Load data\n",
    "df = new_df\n",
    "\n",
    "# Filter the data to only include AD-MCI, HC, and AUD patients\n",
    "df = df[df[\"Diagnosis\"].isin([\"MCI\", \"AD\", \"HC\", \"AUD\"])]\n",
    "\n",
    "# Map the diagnosis categories to numerical values, where MCI or AUD is mapped to 1 and HC is mapped to 0\n",
    "diagnosis_mapping = {\"MCI\": 1, \"AD\": 1, \"HC\": 0, \"AUD\": 1}\n",
    "df[\"Diagnosis\"] = df[\"Diagnosis\"].map(diagnosis_mapping)\n",
    "\n",
    "# Split the subject-group column into MCI and AUD columns\n",
    "df[[\"MCI\", \"AUD\"]] = df[\"subject-group\"].str.split(\"-\", expand=True)\n",
    "\n",
    "# One-hot encode the categorical features\n",
    "enc = OneHotEncoder(handle_unknown='ignore')\n",
    "X_encoded = enc.fit_transform(df[[\"Sex\"]])\n",
    "\n",
    "# Merge the one-hot encoded features with the numerical features\n",
    "X = pd.concat([\n",
    "    df[[\"Age\"]].reset_index(drop=True), \n",
    "    pd.DataFrame(X_encoded.toarray())\n",
    "], axis=1)\n",
    "\n",
    "# Split the data into training and testing sets\n",
    "X_train, X_test, y_train, y_test = train_test_split(\n",
    "    X, df[\"Diagnosis\"], test_size=0.3, random_state=0\n",
    ")\n",
    "\n",
    "# Create the decision tree classifier\n",
    "dt = DecisionTreeClassifier()\n",
    "\n",
    "# Train the model\n",
    "dt.fit(X_train, y_train)\n",
    "\n",
    "# Evaluate the model\n",
    "accuracy = dt.score(X_test, y_test)\n",
    "\n",
    "test_error_rate = 1 - accuracy\n",
    "# Evaluate the model\n",
    "y_pred = dt.predict(X_test)\n",
    "print(\"Accuracy:\", accuracy_score(y_test, y_pred))\n",
    "print(\"Test error rate:\", test_error_rate)\n",
    "print(\"Precision:\", precision_score(y_test, y_pred, average='weighted'))\n",
    "print(\"Recall:\", recall_score(y_test, y_pred, average='weighted'))\n",
    "print(\"F1 score:\", f1_score(y_test, y_pred, average='weighted'))\n",
    "\n",
    "# Tune hyperparameters\n",
    "param_grid = {'max_depth': [2, 4, 6, 8, 10], 'min_samples_leaf': [1, 5, 10, 15, 20]}\n",
    "grid = GridSearchCV(dt, param_grid, cv=10)\n",
    "grid.fit(X_train, y_train)\n",
    "print(\"Best hyperparameters:\", grid.best_params_)\n",
    "print(\"Best accuracy:\", grid.best_score_)\n"
   ]
  },
  {
   "cell_type": "code",
   "execution_count": 106,
   "metadata": {},
   "outputs": [
    {
     "name": "stdout",
     "output_type": "stream",
     "text": [
      "Predicted diagnosis for a M patient aged 45: Alzheimer's\n",
      "Predicted diagnosis for a M patient aged 46: Alzheimer's\n",
      "Predicted diagnosis for a M patient aged 47: Alzheimer's\n",
      "Predicted diagnosis for a M patient aged 48: Alzheimer's\n",
      "Predicted diagnosis for a M patient aged 49: Alzheimer's\n",
      "Predicted diagnosis for a M patient aged 50: Alzheimer's\n",
      "Predicted diagnosis for a M patient aged 51: Not Alzheimer's\n",
      "Predicted diagnosis for a M patient aged 52: Alzheimer's\n",
      "Predicted diagnosis for a M patient aged 53: Alzheimer's\n",
      "Predicted diagnosis for a M patient aged 54: Alzheimer's\n",
      "Predicted diagnosis for a M patient aged 55: Not Alzheimer's\n",
      "Predicted diagnosis for a M patient aged 56: Not Alzheimer's\n",
      "Predicted diagnosis for a M patient aged 57: Not Alzheimer's\n",
      "Predicted diagnosis for a M patient aged 58: Alzheimer's\n",
      "Predicted diagnosis for a M patient aged 59: Not Alzheimer's\n",
      "Predicted diagnosis for a M patient aged 60: Alzheimer's\n",
      "Predicted diagnosis for a M patient aged 61: Alzheimer's\n",
      "Predicted diagnosis for a M patient aged 62: Not Alzheimer's\n",
      "Predicted diagnosis for a M patient aged 63: Not Alzheimer's\n",
      "Predicted diagnosis for a M patient aged 64: Not Alzheimer's\n",
      "Predicted diagnosis for a M patient aged 65: Not Alzheimer's\n",
      "Predicted diagnosis for a M patient aged 66: Not Alzheimer's\n",
      "Predicted diagnosis for a M patient aged 67: Not Alzheimer's\n",
      "Predicted diagnosis for a M patient aged 68: Alzheimer's\n",
      "Predicted diagnosis for a M patient aged 69: Alzheimer's\n",
      "Predicted diagnosis for a M patient aged 70: Alzheimer's\n",
      "Predicted diagnosis for a M patient aged 71: Alzheimer's\n",
      "Predicted diagnosis for a M patient aged 72: Not Alzheimer's\n",
      "Predicted diagnosis for a M patient aged 73: Not Alzheimer's\n",
      "Predicted diagnosis for a M patient aged 74: Not Alzheimer's\n",
      "Predicted diagnosis for a M patient aged 75: Alzheimer's\n",
      "Predicted diagnosis for a M patient aged 76: Not Alzheimer's\n",
      "Predicted diagnosis for a M patient aged 77: Alzheimer's\n",
      "Predicted diagnosis for a M patient aged 78: Not Alzheimer's\n",
      "Predicted diagnosis for a M patient aged 79: Not Alzheimer's\n",
      "Predicted diagnosis for a M patient aged 80: Not Alzheimer's\n",
      "Predicted diagnosis for a M patient aged 81: Not Alzheimer's\n",
      "Predicted diagnosis for a M patient aged 82: Not Alzheimer's\n",
      "Predicted diagnosis for a M patient aged 83: Not Alzheimer's\n",
      "Predicted diagnosis for a M patient aged 84: Not Alzheimer's\n",
      "Predicted diagnosis for a M patient aged 85: Not Alzheimer's\n",
      "Predicted diagnosis for a F patient aged 45: Not Alzheimer's\n",
      "Predicted diagnosis for a F patient aged 46: Not Alzheimer's\n",
      "Predicted diagnosis for a F patient aged 47: Not Alzheimer's\n",
      "Predicted diagnosis for a F patient aged 48: Not Alzheimer's\n",
      "Predicted diagnosis for a F patient aged 49: Not Alzheimer's\n",
      "Predicted diagnosis for a F patient aged 50: Alzheimer's\n",
      "Predicted diagnosis for a F patient aged 51: Alzheimer's\n",
      "Predicted diagnosis for a F patient aged 52: Not Alzheimer's\n",
      "Predicted diagnosis for a F patient aged 53: Alzheimer's\n",
      "Predicted diagnosis for a F patient aged 54: Alzheimer's\n",
      "Predicted diagnosis for a F patient aged 55: Not Alzheimer's\n",
      "Predicted diagnosis for a F patient aged 56: Not Alzheimer's\n",
      "Predicted diagnosis for a F patient aged 57: Alzheimer's\n",
      "Predicted diagnosis for a F patient aged 58: Not Alzheimer's\n",
      "Predicted diagnosis for a F patient aged 59: Not Alzheimer's\n",
      "Predicted diagnosis for a F patient aged 60: Not Alzheimer's\n",
      "Predicted diagnosis for a F patient aged 61: Not Alzheimer's\n",
      "Predicted diagnosis for a F patient aged 62: Not Alzheimer's\n",
      "Predicted diagnosis for a F patient aged 63: Alzheimer's\n",
      "Predicted diagnosis for a F patient aged 64: Not Alzheimer's\n",
      "Predicted diagnosis for a F patient aged 65: Not Alzheimer's\n",
      "Predicted diagnosis for a F patient aged 66: Not Alzheimer's\n",
      "Predicted diagnosis for a F patient aged 67: Not Alzheimer's\n",
      "Predicted diagnosis for a F patient aged 68: Not Alzheimer's\n",
      "Predicted diagnosis for a F patient aged 69: Not Alzheimer's\n",
      "Predicted diagnosis for a F patient aged 70: Not Alzheimer's\n",
      "Predicted diagnosis for a F patient aged 71: Not Alzheimer's\n",
      "Predicted diagnosis for a F patient aged 72: Not Alzheimer's\n",
      "Predicted diagnosis for a F patient aged 73: Not Alzheimer's\n",
      "Predicted diagnosis for a F patient aged 74: Alzheimer's\n",
      "Predicted diagnosis for a F patient aged 75: Not Alzheimer's\n",
      "Predicted diagnosis for a F patient aged 76: Not Alzheimer's\n",
      "Predicted diagnosis for a F patient aged 77: Not Alzheimer's\n",
      "Predicted diagnosis for a F patient aged 78: Not Alzheimer's\n",
      "Predicted diagnosis for a F patient aged 79: Not Alzheimer's\n",
      "Predicted diagnosis for a F patient aged 80: Not Alzheimer's\n",
      "Predicted diagnosis for a F patient aged 81: Not Alzheimer's\n",
      "Predicted diagnosis for a F patient aged 82: Not Alzheimer's\n",
      "Predicted diagnosis for a F patient aged 83: Not Alzheimer's\n",
      "Predicted diagnosis for a F patient aged 84: Not Alzheimer's\n",
      "Predicted diagnosis for a F patient aged 85: Not Alzheimer's\n"
     ]
    }
   ],
   "source": [
    "for gender in [\"M\", \"F\"]:\n",
    "    for age in range(45, 86):\n",
    "        # One-hot encode the gender feature\n",
    "        gender_encoded = enc.transform([[gender]])\n",
    "        \n",
    "        # Merge the one-hot encoded features with the numerical features\n",
    "        X_new = pd.concat([\n",
    "            pd.DataFrame([[age]], columns=[\"Age\"]).reset_index(drop=True),\n",
    "            pd.DataFrame(gender_encoded.toarray())\n",
    "        ], axis=1)\n",
    "        \n",
    "        # Make a prediction on the new data\n",
    "        y_pred_new = dt.predict(X_new)\n",
    "        \n",
    "        # Print the prediction\n",
    "        if y_pred_new[0] == 1:\n",
    "            print(f\"Predicted diagnosis for a {gender} patient aged {age}: Alzheimer's\")\n",
    "        else:\n",
    "            print(f\"Predicted diagnosis for a {gender} patient aged {age}: Not Alzheimer's\")\n"
   ]
  },
  {
   "cell_type": "code",
   "execution_count": 107,
   "metadata": {},
   "outputs": [
    {
     "data": {
      "image/png": "[encoded data removed]",
      "text/plain": [
       "<Figure size 1200x600 with 2 Axes>"
      ]
     },
     "metadata": {},
     "output_type": "display_data"
    }
   ],
   "source": [
    "import matplotlib.pyplot as plt\n",
    "\n",
    "# Create a figure with two subplots\n",
    "fig, (ax1, ax2) = plt.subplots(1, 2, figsize=(12, 6))\n",
    "\n",
    "# Plot a bar chart of the diagnosis by sex\n",
    "diagnosis_by_sex = predictions_table.groupby(['Sex', 'Prediction']).size().unstack()\n",
    "diagnosis_by_sex.plot(kind='bar', stacked=True, ax=ax1)\n",
    "ax1.set_xlabel('Sex')\n",
    "ax1.set_ylabel('Count')\n",
    "ax1.spines['top'].set_visible(False)\n",
    "ax1.spines['right'].set_visible(False)\n",
    "ax1.tick_params(axis='both', direction='out')\n",
    "ax1.legend(title='Diagnosis', frameon=False)\n",
    "\n",
    "# Plot a scatterplot of age by diagnosis, colored by sex\n",
    "colors = {'M': 'blue', 'F': 'purple'}\n",
    "for sex, color in colors.items():\n",
    "    ax2.scatter(predictions_table[predictions_table['Sex'] == sex]['Age'], \n",
    "                predictions_table[predictions_table['Sex'] == sex]['Prediction'], \n",
    "                color=color, alpha=0.5, label=sex)\n",
    "ax2.set_xlabel('Age')\n",
    "ax2.set_ylabel('Diagnosis')\n",
    "ax2.spines['top'].set_visible(False)\n",
    "ax2.spines['right'].set_visible(False)\n",
    "ax2.tick_params(axis='both', direction='out')\n",
    "ax2.legend(title='Sex', frameon=False)\n",
    "\n",
    "plt.suptitle('Predicted Alzheimer\\'s diagnosis by age, sex, and diagnosis')\n",
    "plt.show()\n",
    "\n"
   ]
  },
  {
   "cell_type": "code",
   "execution_count": 108,
   "metadata": {},
   "outputs": [
    {
     "data": {
      "image/png": "[encoded data removed]",
      "text/plain": [
       "<Figure size 1000x700 with 1 Axes>"
      ]
     },
     "metadata": {},
     "output_type": "display_data"
    }
   ],
   "source": [
    "\n",
    "# Create a scatter plot of the predictions\n",
    "fig, ax = plt.subplots(figsize=(10, 7))\n",
    "colors = {'Alzheimer\\'s': 'red', 'Not Alzheimer\\'s': 'green'}\n",
    "for i, row in predictions_table.iterrows():\n",
    "    ax.scatter(row['Age'], row['Sex'], color=colors[row['Prediction']], alpha=0.5, s=50)\n",
    "ax.set_xlabel('Age')\n",
    "ax.set_ylabel('Sex')\n",
    "ax.set_title('Predicted Alzheimer\\'s diagnosis by age and sex')\n",
    "ax.spines['top'].set_visible(False)\n",
    "ax.spines['right'].set_visible(False)\n",
    "ax.spines['bottom'].set_position(('outward', 10))\n",
    "ax.spines['left'].set_position(('outward', 10))\n",
    "ax.tick_params(axis='both', direction='out')\n",
    "plt.legend(handles=[plt.Rectangle((0,0),1,1, color=colors[label]) for label in colors], \n",
    "           labels=list(colors.keys()))\n",
    "plt.show()\n"
   ]
  },
  {
   "cell_type": "code",
   "execution_count": 110,
   "metadata": {},
   "outputs": [
    {
     "name": "stdout",
     "output_type": "stream",
     "text": [
      "     Patient    Age Sex       Prediction\n",
      "0          1  69.00   M      Alzheimer's\n",
      "1          2  66.00   M  Not Alzheimer's\n",
      "2          3  75.00   M      Alzheimer's\n",
      "3          4  70.00   M      Alzheimer's\n",
      "4          5  68.00   M      Alzheimer's\n",
      "..       ...    ...  ..              ...\n",
      "309      309  62.85   M  Not Alzheimer's\n",
      "310      310  63.07   F  Not Alzheimer's\n",
      "311      311  76.70   M  Not Alzheimer's\n",
      "312      312  56.98   F  Not Alzheimer's\n",
      "313      313  55.37   M  Not Alzheimer's\n",
      "\n",
      "[313 rows x 4 columns]\n"
     ]
    }
   ],
   "source": [
    "# Load new data\n",
    "new_data = new_df\n",
    "\n",
    "# One-hot encode the categorical features\n",
    "X_encoded_new = enc.transform(new_data[[\"Sex\"]])\n",
    "\n",
    "# Merge the one-hot encoded features with the numerical features\n",
    "X_new = pd.concat([\n",
    "    new_data[[\"Age\"]].reset_index(drop=True), \n",
    "    pd.DataFrame(X_encoded_new.toarray())\n",
    "], axis=1)\n",
    "\n",
    "# Make predictions on the new data\n",
    "y_pred_new = dt.predict(X_new)\n",
    "\n",
    "# Create a table of predictions\n",
    "predictions_table = pd.DataFrame({\n",
    "    \"Patient\": range(1, len(new_data)+1),\n",
    "    \"Age\": new_data[\"Age\"],\n",
    "    \"Sex\": new_data[\"Sex\"],\n",
    "    \"Prediction\": [\"Alzheimer's\" if pred == 1 else \"Not Alzheimer's\" for pred in y_pred_new]\n",
    "})\n",
    "\n",
    "# Print the table of predictions\n",
    "print(predictions_table)\n"
   ]
  },
  {
   "cell_type": "code",
   "execution_count": null,
   "metadata": {},
   "outputs": [],
   "source": []
  },
  {
   "cell_type": "code",
   "execution_count": null,
   "metadata": {},
   "outputs": [],
   "source": []
  },
  {
   "cell_type": "code",
   "execution_count": null,
   "metadata": {},
   "outputs": [],
   "source": []
  }
 ],
 "metadata": {
  "colab": {
   "provenance": []
  },
  "kernelspec": {
   "display_name": "Python 3 (ipykernel)",
   "language": "python",
   "name": "python3"
  },
  "language_info": {
   "codemirror_mode": {
    "name": "ipython",
    "version": 3
   },
   "file_extension": ".py",
   "mimetype": "text/x-python",
   "name": "python",
   "nbconvert_exporter": "python",
   "pygments_lexer": "ipython3",
   "version": "3.9.13"
  }
 },
 "nbformat": 4,
 "nbformat_minor": 1
}
